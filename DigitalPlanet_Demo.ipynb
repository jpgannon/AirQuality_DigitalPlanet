{
 "cells": [
  {
   "cell_type": "code",
   "execution_count": 13,
   "id": "5d76da42-970b-40c6-b031-2a20544f9310",
   "metadata": {},
   "outputs": [],
   "source": [
    "library(htmlwidgets)\n",
    "library(AirSensor)\n",
    "library(IRdisplay)\n",
    "\n"
   ]
  },
  {
   "cell_type": "code",
   "execution_count": 15,
   "id": "84b84a3c-7388-4a11-8a31-3df2f6ccc905",
   "metadata": {
    "tags": [
     "scroll"
    ]
   },
   "outputs": [
    {
     "data": {
      "text/html": [
       "<iframe src=\"airqual.html\"></iframe>"
      ]
     },
     "metadata": {},
     "output_type": "display_data"
    }
   ],
   "source": [
    "setArchiveBaseUrl(\"https://airsensor.aqmd.gov/PurpleAir/v1/\")   # SCAQMD sensors\n",
    "pas_example <- pas_load()\n",
    "map <- pas_leaflet(pas_example)\n",
    "\n",
    "saveWidget(map, \"airqual.html\", selfcontained = FALSE)\n",
    "display_html('<iframe src=\"airqual.html\"></iframe>')"
   ]
  },
  {
   "cell_type": "code",
   "execution_count": 16,
   "id": "5c983091-3536-4e46-8393-e14bdb4a04a8",
   "metadata": {
    "tags": []
   },
   "outputs": [
    {
     "name": "stderr",
     "output_type": "stream",
     "text": [
      "Requesting data for a49af34f565fa7ac_12999 from 2018-08-01 to 2018-08-08\n",
      "\n",
      "Requesting data for a49af34f565fa7ac_12999 from 2018-08-08 to 2018-08-15\n",
      "\n",
      "Requesting data for a49af34f565fa7ac_12999 from 2018-08-15 to 2018-08-22\n",
      "\n",
      "Requesting data for a49af34f565fa7ac_12999 from 2018-08-22 to 2018-08-28\n",
      "\n",
      "Download completed, merging/harmonizing data ...\n",
      "\n"
     ]
    },
    {
     "ename": "ERROR",
     "evalue": "Error in ggplot(., aes(x = datetime, y = pm25_A)): could not find function \"ggplot\"\n",
     "output_type": "error",
     "traceback": [
      "Error in ggplot(., aes(x = datetime, y = pm25_A)): could not find function \"ggplot\"\nTraceback:\n",
      "1. sensor_data %>% ggplot(aes(x = datetime, y = pm25_A))"
     ]
    }
   ],
   "source": [
    "example_pat <- pat_createNew(\n",
    "  id = \"a49af34f565fa7ac_12999\",\n",
    "  pas = pas_example,\n",
    "  startdate = \"2018-08-01\",\n",
    "  enddate = \"2018-08-28\",\n",
    "  verbose = TRUE\n",
    ")\n",
    "\n",
    "sensor_data <- example_pat$data\n",
    "\n",
    "sensor_data %>% \n",
    "  ggplot(aes(x = datetime, y = pm25_A))+\n",
    "  geom_line()"
   ]
  },
  {
   "cell_type": "code",
   "execution_count": null,
   "id": "abfaba24-5663-4e11-bc0e-75a09ee907f2",
   "metadata": {
    "tags": [
     "scroll"
    ]
   },
   "outputs": [],
   "source": []
  }
 ],
 "metadata": {
  "kernelspec": {
   "display_name": "R",
   "language": "R",
   "name": "ir"
  },
  "language_info": {
   "codemirror_mode": "r",
   "file_extension": ".r",
   "mimetype": "text/x-r-source",
   "name": "R",
   "pygments_lexer": "r",
   "version": "4.1.0"
  },
  "toc-autonumbering": true,
  "toc-showcode": true,
  "toc-showmarkdowntxt": true,
  "toc-showtags": false
 },
 "nbformat": 4,
 "nbformat_minor": 5
}
